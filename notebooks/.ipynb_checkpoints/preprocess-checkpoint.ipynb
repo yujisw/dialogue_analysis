{
 "cells": [
  {
   "cell_type": "code",
   "execution_count": 1,
   "metadata": {},
   "outputs": [],
   "source": [
    "import os\n",
    "import numpy as np\n",
    "import pandas as pd\n",
    "import json\n",
    "import matplotlib.pyplot as plt\n",
    "%matplotlib inline\n",
    "from IPython.core.pylabtools import figsize\n"
   ]
  },
  {
   "cell_type": "code",
   "execution_count": 2,
   "metadata": {},
   "outputs": [
    {
     "name": "stdout",
     "output_type": "stream",
     "text": [
      "['train.json', 'val.json', 'README.txt', 'train.tsv', 'val.tsv', 'test.json', 'licence.txt', 'test.tsv']\n"
     ]
    }
   ],
   "source": [
    "corpus_dir = \"/home/naraki/dialogsum/corpus\"\n",
    "print(os.listdir(corpus_dir))"
   ]
  },
  {
   "cell_type": "code",
   "execution_count": 3,
   "metadata": {},
   "outputs": [
    {
     "data": {
      "text/html": [
       "<div>\n",
       "<style scoped>\n",
       "    .dataframe tbody tr th:only-of-type {\n",
       "        vertical-align: middle;\n",
       "    }\n",
       "\n",
       "    .dataframe tbody tr th {\n",
       "        vertical-align: top;\n",
       "    }\n",
       "\n",
       "    .dataframe thead th {\n",
       "        text-align: right;\n",
       "    }\n",
       "</style>\n",
       "<table border=\"1\" class=\"dataframe\">\n",
       "  <thead>\n",
       "    <tr style=\"text-align: right;\">\n",
       "      <th></th>\n",
       "      <th>id</th>\n",
       "      <th>summary</th>\n",
       "      <th>dialogue</th>\n",
       "      <th>speaker_num</th>\n",
       "      <th>dialogue_len</th>\n",
       "    </tr>\n",
       "  </thead>\n",
       "  <tbody>\n",
       "    <tr>\n",
       "      <th>0</th>\n",
       "      <td>13818513</td>\n",
       "      <td>Amanda baked cookies and will bring Jerry some...</td>\n",
       "      <td>Amanda: I baked  cookies. Do you want some?\\r\\...</td>\n",
       "      <td>2</td>\n",
       "      <td>94</td>\n",
       "    </tr>\n",
       "    <tr>\n",
       "      <th>1</th>\n",
       "      <td>13728867</td>\n",
       "      <td>Olivia and Olivier are voting for liberals in ...</td>\n",
       "      <td>Olivia: Who are you voting for in this electio...</td>\n",
       "      <td>2</td>\n",
       "      <td>111</td>\n",
       "    </tr>\n",
       "    <tr>\n",
       "      <th>2</th>\n",
       "      <td>13681000</td>\n",
       "      <td>Kim may try the pomodoro technique recommended...</td>\n",
       "      <td>Tim: Hi, what's up?\\r\\nKim: Bad mood tbh, I wa...</td>\n",
       "      <td>2</td>\n",
       "      <td>528</td>\n",
       "    </tr>\n",
       "    <tr>\n",
       "      <th>3</th>\n",
       "      <td>13730747</td>\n",
       "      <td>Edward thinks he is in love with Bella. Rachel...</td>\n",
       "      <td>Edward: Rachel, I think I'm in ove with Bella....</td>\n",
       "      <td>2</td>\n",
       "      <td>155</td>\n",
       "    </tr>\n",
       "    <tr>\n",
       "      <th>4</th>\n",
       "      <td>13728094</td>\n",
       "      <td>Sam is confused, because he overheard Rick com...</td>\n",
       "      <td>Sam: hey  overheard rick say something\\r\\nSam:...</td>\n",
       "      <td>2</td>\n",
       "      <td>909</td>\n",
       "    </tr>\n",
       "  </tbody>\n",
       "</table>\n",
       "</div>"
      ],
      "text/plain": [
       "         id                                            summary  \\\n",
       "0  13818513  Amanda baked cookies and will bring Jerry some...   \n",
       "1  13728867  Olivia and Olivier are voting for liberals in ...   \n",
       "2  13681000  Kim may try the pomodoro technique recommended...   \n",
       "3  13730747  Edward thinks he is in love with Bella. Rachel...   \n",
       "4  13728094  Sam is confused, because he overheard Rick com...   \n",
       "\n",
       "                                            dialogue  speaker_num  \\\n",
       "0  Amanda: I baked  cookies. Do you want some?\\r\\...            2   \n",
       "1  Olivia: Who are you voting for in this electio...            2   \n",
       "2  Tim: Hi, what's up?\\r\\nKim: Bad mood tbh, I wa...            2   \n",
       "3  Edward: Rachel, I think I'm in ove with Bella....            2   \n",
       "4  Sam: hey  overheard rick say something\\r\\nSam:...            2   \n",
       "\n",
       "   dialogue_len  \n",
       "0            94  \n",
       "1           111  \n",
       "2           528  \n",
       "3           155  \n",
       "4           909  "
      ]
     },
     "execution_count": 3,
     "metadata": {},
     "output_type": "execute_result"
    }
   ],
   "source": [
    "corpus_dir = \"/home/naraki/dialogsum/corpus\"\n",
    "df_train = pd.read_table(os.path.join(corpus_dir,\"train.tsv\"), index_col=0)\n",
    "df_val   = pd.read_table(os.path.join(corpus_dir,\"val.tsv\"), index_col=0)\n",
    "df_test  = pd.read_table(os.path.join(corpus_dir,\"test.tsv\"), index_col=0)\n",
    "df_train.head()"
   ]
  },
  {
   "cell_type": "code",
   "execution_count": 8,
   "metadata": {},
   "outputs": [
    {
     "data": {
      "text/html": [
       "<div>\n",
       "<style scoped>\n",
       "    .dataframe tbody tr th:only-of-type {\n",
       "        vertical-align: middle;\n",
       "    }\n",
       "\n",
       "    .dataframe tbody tr th {\n",
       "        vertical-align: top;\n",
       "    }\n",
       "\n",
       "    .dataframe thead th {\n",
       "        text-align: right;\n",
       "    }\n",
       "</style>\n",
       "<table border=\"1\" class=\"dataframe\">\n",
       "  <thead>\n",
       "    <tr style=\"text-align: right;\">\n",
       "      <th></th>\n",
       "      <th>id</th>\n",
       "      <th>summary</th>\n",
       "      <th>dialogue</th>\n",
       "      <th>speaker_num</th>\n",
       "      <th>dialogue_len</th>\n",
       "    </tr>\n",
       "  </thead>\n",
       "  <tbody>\n",
       "    <tr>\n",
       "      <th>6054</th>\n",
       "      <td>13828807</td>\n",
       "      <td>problem with visualization of the content</td>\n",
       "      <td>NaN</td>\n",
       "      <td>1</td>\n",
       "      <td>0</td>\n",
       "    </tr>\n",
       "  </tbody>\n",
       "</table>\n",
       "</div>"
      ],
      "text/plain": [
       "            id                                    summary dialogue  \\\n",
       "6054  13828807  problem with visualization of the content      NaN   \n",
       "\n",
       "      speaker_num  dialogue_len  \n",
       "6054            1             0  "
      ]
     },
     "execution_count": 8,
     "metadata": {},
     "output_type": "execute_result"
    }
   ],
   "source": [
    "df_train[df_train['dialogue'].isnull()]\n"
   ]
  },
  {
   "cell_type": "code",
   "execution_count": 9,
   "metadata": {},
   "outputs": [],
   "source": [
    "df_train = df_train.dropna(subset=['dialogue'])\n"
   ]
  },
  {
   "cell_type": "code",
   "execution_count": 10,
   "metadata": {},
   "outputs": [
    {
     "data": {
      "text/html": [
       "<div>\n",
       "<style scoped>\n",
       "    .dataframe tbody tr th:only-of-type {\n",
       "        vertical-align: middle;\n",
       "    }\n",
       "\n",
       "    .dataframe tbody tr th {\n",
       "        vertical-align: top;\n",
       "    }\n",
       "\n",
       "    .dataframe thead th {\n",
       "        text-align: right;\n",
       "    }\n",
       "</style>\n",
       "<table border=\"1\" class=\"dataframe\">\n",
       "  <thead>\n",
       "    <tr style=\"text-align: right;\">\n",
       "      <th></th>\n",
       "      <th>id</th>\n",
       "      <th>summary</th>\n",
       "      <th>dialogue</th>\n",
       "      <th>speaker_num</th>\n",
       "      <th>dialogue_len</th>\n",
       "    </tr>\n",
       "  </thead>\n",
       "  <tbody>\n",
       "  </tbody>\n",
       "</table>\n",
       "</div>"
      ],
      "text/plain": [
       "Empty DataFrame\n",
       "Columns: [id, summary, dialogue, speaker_num, dialogue_len]\n",
       "Index: []"
      ]
     },
     "execution_count": 10,
     "metadata": {},
     "output_type": "execute_result"
    }
   ],
   "source": [
    "df_train[df_train['dialogue'].isnull()]\n"
   ]
  },
  {
   "cell_type": "code",
   "execution_count": 11,
   "metadata": {},
   "outputs": [
    {
     "data": {
      "text/html": [
       "<div>\n",
       "<style scoped>\n",
       "    .dataframe tbody tr th:only-of-type {\n",
       "        vertical-align: middle;\n",
       "    }\n",
       "\n",
       "    .dataframe tbody tr th {\n",
       "        vertical-align: top;\n",
       "    }\n",
       "\n",
       "    .dataframe thead th {\n",
       "        text-align: right;\n",
       "    }\n",
       "</style>\n",
       "<table border=\"1\" class=\"dataframe\">\n",
       "  <thead>\n",
       "    <tr style=\"text-align: right;\">\n",
       "      <th></th>\n",
       "      <th>id</th>\n",
       "      <th>summary</th>\n",
       "      <th>dialogue</th>\n",
       "      <th>speaker_num</th>\n",
       "      <th>dialogue_len</th>\n",
       "    </tr>\n",
       "  </thead>\n",
       "  <tbody>\n",
       "    <tr>\n",
       "      <th>1965</th>\n",
       "      <td>13611518</td>\n",
       "      <td>Adam is looking at airbnb to book NYC. Tom wan...</td>\n",
       "      <td>Tom: hi, mate. doing well?\\r\\nAdam: Fine. Supe...</td>\n",
       "      <td>2</td>\n",
       "      <td>1357</td>\n",
       "    </tr>\n",
       "  </tbody>\n",
       "</table>\n",
       "</div>"
      ],
      "text/plain": [
       "            id                                            summary  \\\n",
       "1965  13611518  Adam is looking at airbnb to book NYC. Tom wan...   \n",
       "\n",
       "                                               dialogue  speaker_num  \\\n",
       "1965  Tom: hi, mate. doing well?\\r\\nAdam: Fine. Supe...            2   \n",
       "\n",
       "      dialogue_len  \n",
       "1965          1357  "
      ]
     },
     "execution_count": 11,
     "metadata": {},
     "output_type": "execute_result"
    }
   ],
   "source": [
    "a = [\"Tom: Do it. Just check if there's wifi, towels and the basics.\" in d for d in df_train['dialogue'].values]\n",
    "df_train[a]"
   ]
  },
  {
   "cell_type": "code",
   "execution_count": 200,
   "metadata": {},
   "outputs": [
    {
     "name": "stdout",
     "output_type": "stream",
     "text": [
      "train source : 14731 , target: 14731\n",
      "val   source : 818   , target: 818\n",
      "test  source : 819   , target: 819\n"
     ]
    }
   ],
   "source": [
    "train_source_list = list(df_train['dialogue'].values)\n",
    "train_target_list = list(df_train['summary'].values)\n",
    "print(\"train source :\",len(train_source_list),\", target:\",len(train_target_list))\n",
    "\n",
    "val_source_list = list(df_val['dialogue'].values)\n",
    "val_target_list = list(df_val['summary'].values)\n",
    "print(\"val   source :\",len(val_source_list),\"  , target:\",len(val_target_list))\n",
    "\n",
    "test_source_list = list(df_test['dialogue'].values)\n",
    "test_target_list = list(df_test['summary'].values)\n",
    "print(\"test  source :\",len(test_source_list),\"  , target:\",len(test_target_list))\n"
   ]
  },
  {
   "cell_type": "code",
   "execution_count": 201,
   "metadata": {},
   "outputs": [],
   "source": [
    "train_source_list = [text.replace(\"\\r\\n\",\" [SEP] \").replace(\"\\n\",\" [SEP] \").replace(\"\\r\",\" [SEP] \") for text in train_source_list]\n",
    "train_target_list = [text.replace(\"\\r\\n\",\" [SEP] \").replace(\"\\n\",\" [SEP] \").replace(\"\\r\",\" [SEP] \") for text in train_target_list]\n",
    "val_source_list = [text.replace(\"\\r\\n\",\" [SEP] \").replace(\"\\n\",\" [SEP] \").replace(\"\\r\",\" [SEP] \") for text in val_source_list]\n",
    "val_target_list = [text.replace(\"\\r\\n\",\" [SEP] \").replace(\"\\n\",\" [SEP] \").replace(\"\\r\",\" [SEP] \") for text in val_target_list]\n",
    "test_source_list = [text.replace(\"\\r\\n\",\" [SEP] \").replace(\"\\n\",\" [SEP] \").replace(\"\\r\",\" [SEP] \") for text in test_source_list]\n",
    "test_target_list = [text.replace(\"\\r\\n\",\" [SEP] \").replace(\"\\n\",\" [SEP] \").replace(\"\\r\",\" [SEP] \") for text in test_target_list]\n"
   ]
  },
  {
   "cell_type": "code",
   "execution_count": 202,
   "metadata": {},
   "outputs": [],
   "source": [
    "for i, t in enumerate(train_source_list):\n",
    "    if \"\\r\" in t or \"\\n\" in t:\n",
    "        print(i,t)"
   ]
  },
  {
   "cell_type": "code",
   "execution_count": 203,
   "metadata": {},
   "outputs": [],
   "source": [
    "dataset_dir = \"/home/naraki/dialogsum/samsum_dataset\"\n",
    "\n",
    "with open(os.path.join(dataset_dir, 'train.source'), 'w') as f:\n",
    "    f.write('\\n'.join(train_source_list))\n",
    "\n",
    "with open(os.path.join(dataset_dir, 'train.target'), 'w') as f:\n",
    "    f.write('\\n'.join(train_target_list))\n",
    "\n",
    "with open(os.path.join(dataset_dir, 'val.source'), 'w') as f:\n",
    "    f.write('\\n'.join(val_source_list))\n",
    "\n",
    "with open(os.path.join(dataset_dir, 'val.target'), 'w') as f:\n",
    "    f.write('\\n'.join(val_target_list))\n",
    "\n",
    "with open(os.path.join(dataset_dir, 'test.source'), 'w') as f:\n",
    "    f.write('\\n'.join(test_source_list))\n",
    "\n",
    "with open(os.path.join(dataset_dir, 'test.target'), 'w') as f:\n",
    "    f.write('\\n'.join(test_target_list))\n",
    "\n"
   ]
  },
  {
   "cell_type": "code",
   "execution_count": 204,
   "metadata": {},
   "outputs": [
    {
     "data": {
      "text/plain": [
       "511.21831511777884"
      ]
     },
     "execution_count": 204,
     "metadata": {},
     "output_type": "execute_result"
    }
   ],
   "source": [
    "np.array([len(s) for s in df_train['dialogue'].values]).mean()"
   ]
  },
  {
   "cell_type": "code",
   "execution_count": 205,
   "metadata": {},
   "outputs": [
    {
     "data": {
      "text/plain": [
       "89.70877740818682"
      ]
     },
     "execution_count": 205,
     "metadata": {},
     "output_type": "execute_result"
    }
   ],
   "source": [
    "len(df_train[df_train['dialogue_len']<1024])/len(df_train)*100"
   ]
  },
  {
   "cell_type": "code",
   "execution_count": null,
   "metadata": {},
   "outputs": [],
   "source": []
  },
  {
   "cell_type": "code",
   "execution_count": 303,
   "metadata": {},
   "outputs": [
    {
     "name": "stdout",
     "output_type": "stream",
     "text": [
      "train source : 14731 , target: 14731\n",
      "val   source : 818   , target: 818\n",
      "test  source : 819   , target: 819\n"
     ]
    }
   ],
   "source": [
    "train_source_list = list(df_train['dialogue'].values)\n",
    "train_target_list = list(df_train['summary'].values)\n",
    "print(\"train source :\",len(train_source_list),\", target:\",len(train_target_list))\n",
    "\n",
    "val_source_list = list(df_val['dialogue'].values)\n",
    "val_target_list = list(df_val['summary'].values)\n",
    "print(\"val   source :\",len(val_source_list),\"  , target:\",len(val_target_list))\n",
    "\n",
    "test_source_list = list(df_test['dialogue'].values)\n",
    "test_target_list = list(df_test['summary'].values)\n",
    "print(\"test  source :\",len(test_source_list),\"  , target:\",len(test_target_list))\n"
   ]
  },
  {
   "cell_type": "code",
   "execution_count": 304,
   "metadata": {},
   "outputs": [],
   "source": [
    "pp_train_source_list = []\n",
    "flag_full_name = False\n",
    "for text in train_source_list:\n",
    "    word_list = []\n",
    "    for word_i, w in enumerate(text.split(\" \")):\n",
    "        if flag_full_name and w.endswith(':'):\n",
    "            word_list.append(w[:-1])\n",
    "            word_list.append(\"[SAYS]\")\n",
    "            flag_full_name = False\n",
    "            continue\n",
    "        if \"\\r\\n\" in w or \"\\n\" in w or \"\\r\" in w or word_i==0:\n",
    "            if w.endswith(':'):\n",
    "                word_list.append(w[:-1])\n",
    "                word_list.append(\"[SAYS]\")\n",
    "            else:\n",
    "                word_list.append(w)\n",
    "                flag_full_name = True\n",
    "        else:\n",
    "            word_list.append(w)\n",
    "    pp_train_source_list.append(\" \".join(word_list))"
   ]
  },
  {
   "cell_type": "code",
   "execution_count": 305,
   "metadata": {},
   "outputs": [],
   "source": [
    "pp_train_source_list = [text.replace(\"\\r\\n\",\" \").replace(\"\\n\",\" \").replace(\"\\r\",\" \") for text in pp_train_source_list]\n"
   ]
  },
  {
   "cell_type": "code",
   "execution_count": 306,
   "metadata": {},
   "outputs": [],
   "source": [
    "pp2_train_source_list = []\n",
    "for sentence_i, text in enumerate(pp_train_source_list):\n",
    "#     print(\"sentence\", sentence_i)\n",
    "    w_prev = \"[NULL]\"\n",
    "    speaker_prev = \"[NULL]\"\n",
    "    word_list = text.split(\" \")\n",
    "    acc = 0\n",
    "    for word_i, w in enumerate(text.split(\" \")):\n",
    "#         print(word_i,word_list)\n",
    "        if w == \"[SAYS]\":\n",
    "            if speaker_prev != \"[NULL]\" and speaker_prev == w_prev:\n",
    "                word_list[word_i-acc] = \"[EOU]\"\n",
    "                word_list.pop(word_i-1-acc)\n",
    "#                 word_list.pop(word_i)\n",
    "#                 print(speaker_prev, w_prev)\n",
    "                acc += 1\n",
    "            elif speaker_prev != \"[NULL]\" and speaker_prev != w_prev:\n",
    "                if word_list[word_i - 2 - acc] and word_list[word_i - 2 - acc][-1].isalpha():\n",
    "                    word_list[word_i - 2 - acc] = word_list[word_i - 2 - acc] + \".\"\n",
    "                word_list.insert(word_i - 1 - acc, \"[EOT]\")\n",
    "                acc -= 1\n",
    "                \n",
    "            speaker_prev = w_prev\n",
    "        w_prev = w\n",
    "    pp2_train_source_list.append(\" \".join(word_list))\n",
    "#     break\n"
   ]
  },
  {
   "cell_type": "code",
   "execution_count": 307,
   "metadata": {},
   "outputs": [],
   "source": [
    "assert len(train_source_list) == len(pp2_train_source_list)"
   ]
  },
  {
   "cell_type": "code",
   "execution_count": 308,
   "metadata": {},
   "outputs": [],
   "source": [
    "pp2_train_source_list = [text.replace(\". \",\". [EOU] \").replace(\"! \",\"! [EOU] \").replace(\"? \",\"? [EOU] \") for text in pp2_train_source_list]"
   ]
  },
  {
   "cell_type": "code",
   "execution_count": 309,
   "metadata": {},
   "outputs": [
    {
     "data": {
      "text/plain": [
       "'Christopher [SAYS] ok, people, I’ve got an idea. [EOU] [EOT] Matthew [SAYS] hmm? [EOU] [EOT] Christopher [SAYS] let’s go abroad for the weekend 😀 tickets are cheap enough and I don’t know about you, but I’m bored. [EOU] massively bored. [EOU]   [EOT] Andrew [SAYS] I’m out, guys… I just can’t leave Ann alone with the baby, sorry  [EOT] Christopher [SAYS] Matthew, David? [EOU] what about you? [EOU] [EOT] Matthew [SAYS] I’m working this weekend 😕  [EOT] David [SAYS] well, if they can’t then I’m out as well  [EOT] Christopher [SAYS] i hate you guys'"
      ]
     },
     "execution_count": 309,
     "metadata": {},
     "output_type": "execute_result"
    }
   ],
   "source": [
    "pp2_train_source_list[67]"
   ]
  },
  {
   "cell_type": "code",
   "execution_count": 310,
   "metadata": {},
   "outputs": [
    {
     "name": "stdout",
     "output_type": "stream",
     "text": [
      "Christopher: ok, people, I’ve got an idea\n",
      "Matthew: hmm?\n",
      "Christopher: let’s go abroad for the weekend 😀 tickets are cheap enough and I don’t know about you, but I’m bored. massively bored.  \n",
      "Andrew: I’m out, guys… I just can’t leave Ann alone with the baby, sorry \n",
      "Christopher: Matthew, David? what about you?\n",
      "Matthew: I’m working this weekend 😕 \n",
      "David: well, if they can’t then I’m out as well \n",
      "Christopher: i hate you guys\n"
     ]
    }
   ],
   "source": [
    "print(df_train['dialogue'][67])"
   ]
  },
  {
   "cell_type": "code",
   "execution_count": 314,
   "metadata": {},
   "outputs": [],
   "source": [
    "pp2_train_source_list = [text.replace(\"   \",\" \").replace(\"  \",\" \") for text in pp2_train_source_list]"
   ]
  },
  {
   "cell_type": "code",
   "execution_count": 329,
   "metadata": {},
   "outputs": [],
   "source": [
    "pp3_train_source_list = []\n",
    "for sent_i, text in enumerate(pp2_train_source_list):\n",
    "    w_prev = \"[NULL]\"\n",
    "    w_prev_prev = \"[NULL]\"\n",
    "    word_list = text.split(\" \")\n",
    "    acc = 0\n",
    "    for word_i, w in enumerate(text.split(\" \")):\n",
    "        if w == \"[EOT]\" and w_prev == \"[EOU]\" and w_prev_prev[-1].isalpha():\n",
    "            print(word_list[word_i-2-acc])\n",
    "        elif w == \"[EOT]\" and w_prev[-1].isalpha():\n",
    "            word_list[word_i-1+acc] = word_list[word_i-1+acc]+\".\"\n",
    "            word_list.insert(word_i+acc,\"[EOU]\")\n",
    "            acc += 1\n",
    "        elif w == \"[EOT]\" and w_prev != \"[EOU]\":\n",
    "            word_list.insert(word_i+acc,\"[EOU]\")\n",
    "            acc += 1\n",
    "            \n",
    "        w_prev_prev = w_prev\n",
    "        w_prev = w\n",
    "    pp3_train_source_list.append(' '.join(word_list))"
   ]
  },
  {
   "cell_type": "code",
   "execution_count": 343,
   "metadata": {},
   "outputs": [
    {
     "data": {
      "text/plain": [
       "\"Sam [SAYS] hey overheard rick say something [EOU] i don't know what to do :-/ [EOU] [EOT] Naomi [SAYS] what did he say?? [EOU] [EOT] Sam [SAYS] he was talking on the phone with someone [EOU] i don't know who [EOU] and he was telling them that he wasn't very happy here. [EOU] [EOT] Naomi [SAYS] damn!!! [EOU] [EOT] Sam [SAYS] he was saying he doesn't like being my roommate. [EOU] [EOT] Naomi [SAYS] wow, how do you feel about it? [EOU] [EOT] Sam [SAYS] i thought i was a good rommate [EOU] and that we have a nice place. [EOU] [EOT] Naomi [SAYS] that's true man!!! [EOU] i used to love living with you before i moved in with me boyfriend [EOU] i don't know why he's saying that. [EOU] [EOT] Sam [SAYS] what should i do??? [EOU] [EOT] Naomi [SAYS] honestly if it's bothering you that much you should talk to him [EOU] see what's going on. [EOU] [EOT] Sam [SAYS] i don't want to get in any kind of confrontation though [EOU] maybe i'll just let it go [EOU] and see how it goes in the future. [EOU] [EOT] Naomi [SAYS] it's your choice sam [EOU] if i were you i would just talk to him and clear the air\""
      ]
     },
     "execution_count": 343,
     "metadata": {},
     "output_type": "execute_result"
    }
   ],
   "source": [
    "pp4_train_source_list[4]"
   ]
  },
  {
   "cell_type": "code",
   "execution_count": 345,
   "metadata": {},
   "outputs": [],
   "source": [
    "pp4_train_source_list = []\n",
    "for sent_i, text in enumerate(pp3_train_source_list):\n",
    "    w_prev = \"[NULL]\"\n",
    "    word_list = text.split(\" \")\n",
    "    acc = 0\n",
    "    for word_i, w in enumerate(text.split(\" \")):\n",
    "        if w == \"[EOU]\" and w_prev == \"[EOU]\":\n",
    "            word_list.pop(word_i+acc)\n",
    "            acc -= 1\n",
    "        w_prev = w\n",
    "    pp4_train_source_list.append(' '.join(word_list))"
   ]
  },
  {
   "cell_type": "code",
   "execution_count": 346,
   "metadata": {},
   "outputs": [],
   "source": [
    "for i, text in enumerate(pp4_train_source_list):\n",
    "    w_prev = \"[NULL]\"\n",
    "    for w in text.split(\" \"):\n",
    "        if w == \"[EOU]\" and w_prev == \"[EOU]\":\n",
    "            print(i, w_prev)\n",
    "        w_prev = w\n"
   ]
  },
  {
   "cell_type": "code",
   "execution_count": 354,
   "metadata": {},
   "outputs": [],
   "source": [
    "pp4_train_source_list = [text.replace(\":D.\", \":D\") for text in pp4_train_source_list]"
   ]
  },
  {
   "cell_type": "code",
   "execution_count": 355,
   "metadata": {},
   "outputs": [
    {
     "name": "stdout",
     "output_type": "stream",
     "text": [
      "Lucas [SAYS] Hey! [EOU] How was your day? [EOU]\n",
      "Demi [SAYS] Hey there! [EOU] It was pretty fine, actually, thank you! [EOU] I just got promoted! [EOU] :D [EOU]\n",
      "Lucas [SAYS] Whoa! [EOU] Great news! [EOU] Congratulations! [EOU] Such a success has to be celebrated. [EOU]\n",
      "Demi [SAYS] I agree! [EOU] :D [EOU] Tonight at Death & Co.? [EOU]\n",
      "Lucas [SAYS] Sure! [EOU] See you there at 10pm? [EOU]\n",
      "Demi [SAYS] Yeah! [EOU] See you there! [EOU] :D\n",
      "==================\n",
      "Mark [SAYS] I just shipped the goods [EOU] Tomorrow I’ll send you the tracking number. [EOU]\n",
      "George [SAYS] Thanks!\n",
      "==================\n",
      "Anita [SAYS] I'm at the station in Bologna. [EOU]\n",
      "Jenny [SAYS] No problems so far? [EOU]\n",
      "Anita [SAYS] no, everything's going smoothly. [EOU]\n",
      "Tomy [SAYS] good!\n",
      "==================\n",
      "Leon [SAYS] did you find the job yet? [EOU]\n",
      "Arthur [SAYS] no bro, still unemployed :D [EOU]\n",
      "Leon [SAYS] hahaha, LIVING LIFE. [EOU]\n",
      "Arthur [SAYS] i love it, waking up at noon, watching sports - what else could a man want? [EOU]\n",
      "Leon [SAYS] a paycheck? [EOU] ;) [EOU]\n",
      "Arthur [SAYS] don't be mean... [EOU]\n",
      "Leon [SAYS] but seriously, my mate has an offer as a junior project manager at his company, are you interested? [EOU]\n",
      "Arthur [SAYS] sure thing, do you have any details? [EOU]\n",
      "Leon [SAYS] <file_photo> [EOU]\n",
      "Arthur [SAYS] that actually looks nice, should I reach out directly to your friend or just apply to this email address from the screenshot? [EOU]\n",
      "Leon [SAYS] it's his email, you can send your resume directly and I will mention to him who you are :)\n",
      "==================\n",
      "Macca [SAYS] i'm so exited today. [EOU]\n",
      "Adrien [SAYS] why? [EOU]\n",
      "Macca [SAYS] I've never done ice climbing before. [EOU]\n",
      "Mark [SAYS] Are you ready? [EOU]\n",
      "Macca [SAYS] think so. [EOU]\n",
      "Tobias [SAYS] where are you doing this? [EOU]\n",
      "Macca [SAYS] not far from Reykjavik [EOU] Has anybody seriously injured themselves doing this? [EOU]\n",
      "Mark [SAYS] not seriously. [EOU]\n",
      "Adrien [SAYS] I didn't know you're in Iceland! [EOU]\n",
      "Macca [SAYS] hahaha, doesn't sound so good. [EOU]\n",
      "Mark [SAYS] no need to be afraid. [EOU]\n",
      "Macca [SAYS] gosh, it was such a rush. [EOU]\n",
      "Mark [SAYS] did you enjoy it? [EOU]\n",
      "Macca [SAYS] every second [EOU] it was not very cold [EOU] the landscapes were magnificent. [EOU]\n",
      "Mark [SAYS] I'm glad to read that. [EOU]\n",
      "Macca [SAYS] Challenge of the day done!\n",
      "==================\n",
      "Isabella [SAYS] fuck my life, I'm so not able to get up to work today [EOU] I need to call in sick :( [EOU]\n",
      "Oscar [SAYS] haha, well you certainly had a good time at the Christmas party yesterday XD. [EOU]\n",
      "Isabella [SAYS] shut up, you're a traitor [EOU] I told you to guard my glass [EOU] and my sobriety. [EOU] You clearly failed! [EOU]\n",
      "Oscar [SAYS] but you were having such fun, I didn't have a heart to stop it [EOU] <file_photo> [EOU] <file_photo> [EOU]\n",
      "Isabella [SAYS] you're so dead! [EOU] Is that Jimmy from marketing department? [EOU]\n",
      "Oscar [SAYS] yes indeed, it's him :D [EOU]\n",
      "Isabella [SAYS] I am a fallen woman, I cannot get back to the office now [EOU] <file_gif> [EOU]\n",
      "Oscar [SAYS] oh come on, almost everybody was drunk [EOU] so they won't remember a thing :D [EOU]\n",
      "Isabella [SAYS] I assure you, they tend to remember such things… [EOU]\n",
      "Oscar [SAYS] <file_gif>\n",
      "==================\n",
      "Tina [SAYS] I'd only like to remind you that you owe me 50 bucks. [EOU]\n",
      "Lucy [SAYS] Of course, I know. [EOU] I've already transferred the money but it's Sunday today so you'll have it in your bank account tomorrow. [EOU]\n",
      "Tina [SAYS] That's good news cuz I've been having a lot of expenses lately\n",
      "==================\n",
      "Betty [SAYS] Please remind me next time that too much wine isn't good for me and me surrounding [EOU] Hangover is one thing [EOU] But I feel like never touching wine again. [EOU]\n",
      "Amber [SAYS] Hahaha. [EOU] You were so drunk with wine last night, you couldn't walk straight even 5 steps [EOU] You took off your weeding ring and shouted \"My precious\" [EOU]\n",
      "Betty [SAYS] Uhh. [EOU] I have no blackouts so I know exactly what to feel embarassed about....\n",
      "==================\n",
      "Mary [SAYS] Hi Mike! [EOU]\n",
      "Mike [SAYS] Hello :) [EOU]\n",
      "Mary [SAYS] do u have any plans for tonight? [EOU]\n",
      "Mike [SAYS] I'm going to visit my grandma. [EOU] You can go with me. [EOU] She likes u very much. [EOU]\n",
      "Mary [SAYS] Good idea, i'll buy some chocolate for her.\n",
      "==================\n",
      "Laura [SAYS] ok , I'm done for today-) [EOU] let me know once u're free and we come back home together. [EOU]\n",
      "Kim [SAYS] hmm.. [EOU] 7? [EOU]\n",
      "Laura [SAYS] ok. [EOU]\n",
      "Kim [SAYS] cool, wait for me at work, I'll call once I get here\n",
      "==================\n"
     ]
    }
   ],
   "source": [
    "for text in pp4_train_source_list[10:20]:\n",
    "    print(text.replace(\" [EOT] \", \"\\n\"))\n",
    "    print(\"==================\")\n"
   ]
  },
  {
   "cell_type": "code",
   "execution_count": null,
   "metadata": {},
   "outputs": [],
   "source": []
  }
 ],
 "metadata": {
  "kernelspec": {
   "display_name": "Python 3",
   "language": "python",
   "name": "python3"
  },
  "language_info": {
   "codemirror_mode": {
    "name": "ipython",
    "version": 3
   },
   "file_extension": ".py",
   "mimetype": "text/x-python",
   "name": "python",
   "nbconvert_exporter": "python",
   "pygments_lexer": "ipython3",
   "version": "3.6.9"
  }
 },
 "nbformat": 4,
 "nbformat_minor": 4
}
