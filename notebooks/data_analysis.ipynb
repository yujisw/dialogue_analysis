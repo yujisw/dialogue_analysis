{
 "cells": [
  {
   "cell_type": "code",
   "execution_count": 2,
   "metadata": {},
   "outputs": [],
   "source": [
    "import os\n",
    "import numpy as np\n",
    "import pandas as pd\n",
    "import json\n",
    "# import matplotlib.pyplot as plt\n",
    "# %matplotlib inline\n",
    "# from IPython.core.pylabtools import figsize\n"
   ]
  },
  {
   "cell_type": "code",
   "execution_count": 8,
   "metadata": {},
   "outputs": [
    {
     "name": "stdout",
     "output_type": "stream",
     "text": [
      "['train.json', 'val.json', 'README.txt', 'train.tsv', 'val.tsv', 'test.json', 'licence.txt', 'test.tsv']\n"
     ]
    }
   ],
   "source": [
    "corpus_dir = \"/home/naraki/dialogsum/corpus\"\n",
    "print(os.listdir(corpus_dir))"
   ]
  },
  {
   "cell_type": "code",
   "execution_count": 7,
   "metadata": {},
   "outputs": [
    {
     "data": {
      "text/plain": [
       "2     10718\n",
       "3      2843\n",
       "4       826\n",
       "5       196\n",
       "6        77\n",
       "7        26\n",
       "8        15\n",
       "9        13\n",
       "10        6\n",
       "11        5\n",
       "14        2\n",
       "13        2\n",
       "12        2\n",
       "1         1\n",
       "Name: speaker_num, dtype: int64"
      ]
     },
     "execution_count": 7,
     "metadata": {},
     "output_type": "execute_result"
    }
   ],
   "source": [
    "df_train = pd.read_table(os.path.join(corpus_dir, \"train.tsv\"))\n",
    "df_train['speaker_num'].value_counts()"
   ]
  },
  {
   "cell_type": "code",
   "execution_count": 17,
   "metadata": {},
   "outputs": [],
   "source": [
    "with open(os.path.join(corpus_dir, \"train.json\")) as f:\n",
    "    df_train = pd.read_json(f)"
   ]
  },
  {
   "cell_type": "code",
   "execution_count": 18,
   "metadata": {},
   "outputs": [],
   "source": [
    "speaker_num_list = []\n",
    "dialogue_len_list = []\n",
    "for i, row in df_train.iterrows():\n",
    "    dialog_txt = row[2]\n",
    "    speaker_set = set()\n",
    "    for speech in dialog_txt.split(\"\\n\"):\n",
    "        speaker_set.add(speech[:speech.find(\":\")])\n",
    "#     print(speaker_set)\n",
    "    speaker_num = len(speaker_set)\n",
    "    speaker_num_list.append(speaker_num)\n",
    "    dialogue_len_list.append(len(dialog_txt))\n",
    "df_train[\"speaker_num\"] = speaker_num_list\n",
    "df_train[\"dialogue_len\"] = dialogue_len_list"
   ]
  },
  {
   "cell_type": "code",
   "execution_count": 19,
   "metadata": {},
   "outputs": [
    {
     "data": {
      "text/html": [
       "<div>\n",
       "<style scoped>\n",
       "    .dataframe tbody tr th:only-of-type {\n",
       "        vertical-align: middle;\n",
       "    }\n",
       "\n",
       "    .dataframe tbody tr th {\n",
       "        vertical-align: top;\n",
       "    }\n",
       "\n",
       "    .dataframe thead th {\n",
       "        text-align: right;\n",
       "    }\n",
       "</style>\n",
       "<table border=\"1\" class=\"dataframe\">\n",
       "  <thead>\n",
       "    <tr style=\"text-align: right;\">\n",
       "      <th></th>\n",
       "      <th>id</th>\n",
       "      <th>summary</th>\n",
       "      <th>dialogue</th>\n",
       "      <th>speaker_num</th>\n",
       "      <th>dialogue_len</th>\n",
       "    </tr>\n",
       "  </thead>\n",
       "  <tbody>\n",
       "    <tr>\n",
       "      <th>0</th>\n",
       "      <td>13862856</td>\n",
       "      <td>Hannah needs Betty's number but Amanda doesn't...</td>\n",
       "      <td>Hannah: Hey, do you have Betty's number?\\nAman...</td>\n",
       "      <td>2</td>\n",
       "      <td>407</td>\n",
       "    </tr>\n",
       "    <tr>\n",
       "      <th>1</th>\n",
       "      <td>13729565</td>\n",
       "      <td>Eric and Rob are going to watch a stand-up on ...</td>\n",
       "      <td>Eric: MACHINE!\\r\\nRob: That's so gr8!\\r\\nEric:...</td>\n",
       "      <td>2</td>\n",
       "      <td>459</td>\n",
       "    </tr>\n",
       "    <tr>\n",
       "      <th>2</th>\n",
       "      <td>13680171</td>\n",
       "      <td>Lenny can't decide which trousers to buy. Bob ...</td>\n",
       "      <td>Lenny: Babe, can you help me with something?\\r...</td>\n",
       "      <td>2</td>\n",
       "      <td>592</td>\n",
       "    </tr>\n",
       "    <tr>\n",
       "      <th>3</th>\n",
       "      <td>13729438</td>\n",
       "      <td>Emma will be home soon and she will let Will k...</td>\n",
       "      <td>Will: hey babe, what do you want for dinner to...</td>\n",
       "      <td>2</td>\n",
       "      <td>461</td>\n",
       "    </tr>\n",
       "    <tr>\n",
       "      <th>4</th>\n",
       "      <td>13828600</td>\n",
       "      <td>Jane is in Warsaw. Ollie and Jane has a party....</td>\n",
       "      <td>Ollie: Hi , are you in Warsaw\\r\\nJane: yes, ju...</td>\n",
       "      <td>2</td>\n",
       "      <td>1101</td>\n",
       "    </tr>\n",
       "  </tbody>\n",
       "</table>\n",
       "</div>"
      ],
      "text/plain": [
       "         id                                            summary  \\\n",
       "0  13862856  Hannah needs Betty's number but Amanda doesn't...   \n",
       "1  13729565  Eric and Rob are going to watch a stand-up on ...   \n",
       "2  13680171  Lenny can't decide which trousers to buy. Bob ...   \n",
       "3  13729438  Emma will be home soon and she will let Will k...   \n",
       "4  13828600  Jane is in Warsaw. Ollie and Jane has a party....   \n",
       "\n",
       "                                            dialogue  speaker_num  \\\n",
       "0  Hannah: Hey, do you have Betty's number?\\nAman...            2   \n",
       "1  Eric: MACHINE!\\r\\nRob: That's so gr8!\\r\\nEric:...            2   \n",
       "2  Lenny: Babe, can you help me with something?\\r...            2   \n",
       "3  Will: hey babe, what do you want for dinner to...            2   \n",
       "4  Ollie: Hi , are you in Warsaw\\r\\nJane: yes, ju...            2   \n",
       "\n",
       "   dialogue_len  \n",
       "0           407  \n",
       "1           459  \n",
       "2           592  \n",
       "3           461  \n",
       "4          1101  "
      ]
     },
     "execution_count": 19,
     "metadata": {},
     "output_type": "execute_result"
    }
   ],
   "source": [
    "df_train.head()"
   ]
  },
  {
   "cell_type": "code",
   "execution_count": 20,
   "metadata": {},
   "outputs": [
    {
     "data": {
      "text/html": [
       "<div>\n",
       "<style scoped>\n",
       "    .dataframe tbody tr th:only-of-type {\n",
       "        vertical-align: middle;\n",
       "    }\n",
       "\n",
       "    .dataframe tbody tr th {\n",
       "        vertical-align: top;\n",
       "    }\n",
       "\n",
       "    .dataframe thead th {\n",
       "        text-align: right;\n",
       "    }\n",
       "</style>\n",
       "<table border=\"1\" class=\"dataframe\">\n",
       "  <thead>\n",
       "    <tr style=\"text-align: right;\">\n",
       "      <th></th>\n",
       "      <th>id</th>\n",
       "      <th>summary</th>\n",
       "      <th>dialogue</th>\n",
       "      <th>speaker_num</th>\n",
       "      <th>dialogue_len</th>\n",
       "    </tr>\n",
       "  </thead>\n",
       "  <tbody>\n",
       "    <tr>\n",
       "      <th>13</th>\n",
       "      <td>13864627</td>\n",
       "      <td>Ella rented a car, this makes things much fast...</td>\n",
       "      <td>Mary: Are you going by car or train?\\nTom: Ell...</td>\n",
       "      <td>3</td>\n",
       "      <td>120</td>\n",
       "    </tr>\n",
       "    <tr>\n",
       "      <th>23</th>\n",
       "      <td>13864400</td>\n",
       "      <td>Mark lied to Anne about his age. Mark is 40.</td>\n",
       "      <td>Anne: You were right, he was lying to me :/\\nI...</td>\n",
       "      <td>3</td>\n",
       "      <td>226</td>\n",
       "    </tr>\n",
       "    <tr>\n",
       "      <th>36</th>\n",
       "      <td>13864532</td>\n",
       "      <td>Mary has played DA Inquisition. Lucas has play...</td>\n",
       "      <td>Daniel: have you guys played DA?\\nMary: which ...</td>\n",
       "      <td>3</td>\n",
       "      <td>445</td>\n",
       "    </tr>\n",
       "    <tr>\n",
       "      <th>45</th>\n",
       "      <td>13716025</td>\n",
       "      <td>Josh thinks Stephen accidentally took his note...</td>\n",
       "      <td>Josh: Stephen, I think you've accidentaly take...</td>\n",
       "      <td>3</td>\n",
       "      <td>267</td>\n",
       "    </tr>\n",
       "    <tr>\n",
       "      <th>49</th>\n",
       "      <td>13819035</td>\n",
       "      <td>Petra is very sleepy at work today, Andy finds...</td>\n",
       "      <td>Petra: I need to sleep, I can't stand how slee...</td>\n",
       "      <td>3</td>\n",
       "      <td>469</td>\n",
       "    </tr>\n",
       "    <tr>\n",
       "      <th>...</th>\n",
       "      <td>...</td>\n",
       "      <td>...</td>\n",
       "      <td>...</td>\n",
       "      <td>...</td>\n",
       "      <td>...</td>\n",
       "    </tr>\n",
       "    <tr>\n",
       "      <th>808</th>\n",
       "      <td>13716653</td>\n",
       "      <td>Stan Lee is dead.</td>\n",
       "      <td>Jack: OMG STANLEY IS DEAD\\r\\nOliver: Wtf?\\r\\nS...</td>\n",
       "      <td>3</td>\n",
       "      <td>191</td>\n",
       "    </tr>\n",
       "    <tr>\n",
       "      <th>809</th>\n",
       "      <td>13865170</td>\n",
       "      <td>Maria is tired of her job.</td>\n",
       "      <td>Maria: I'm tired of this job, I can't stand it...</td>\n",
       "      <td>3</td>\n",
       "      <td>138</td>\n",
       "    </tr>\n",
       "    <tr>\n",
       "      <th>815</th>\n",
       "      <td>13820989</td>\n",
       "      <td>The audition starts at 7.30 P.M. in Antena 3.</td>\n",
       "      <td>Jamilla: remember that the audition starts at ...</td>\n",
       "      <td>3</td>\n",
       "      <td>114</td>\n",
       "    </tr>\n",
       "    <tr>\n",
       "      <th>816</th>\n",
       "      <td>13717193</td>\n",
       "      <td>Marta sent a file accidentally,</td>\n",
       "      <td>Marta: &lt;file_gif&gt;\\r\\nMarta: Sorry girls, I cli...</td>\n",
       "      <td>3</td>\n",
       "      <td>187</td>\n",
       "    </tr>\n",
       "    <tr>\n",
       "      <th>818</th>\n",
       "      <td>13818810</td>\n",
       "      <td>Rachel sends a list of Top 50 films of 2018. J...</td>\n",
       "      <td>Rachel: &lt;file_other&gt;\\r\\nRachel: Top 50 Best Fi...</td>\n",
       "      <td>3</td>\n",
       "      <td>481</td>\n",
       "    </tr>\n",
       "  </tbody>\n",
       "</table>\n",
       "<p>134 rows × 5 columns</p>\n",
       "</div>"
      ],
      "text/plain": [
       "           id                                            summary  \\\n",
       "13   13864627  Ella rented a car, this makes things much fast...   \n",
       "23   13864400       Mark lied to Anne about his age. Mark is 40.   \n",
       "36   13864532  Mary has played DA Inquisition. Lucas has play...   \n",
       "45   13716025  Josh thinks Stephen accidentally took his note...   \n",
       "49   13819035  Petra is very sleepy at work today, Andy finds...   \n",
       "..        ...                                                ...   \n",
       "808  13716653                                  Stan Lee is dead.   \n",
       "809  13865170                        Maria is tired of her job.    \n",
       "815  13820989      The audition starts at 7.30 P.M. in Antena 3.   \n",
       "816  13717193                    Marta sent a file accidentally,   \n",
       "818  13818810  Rachel sends a list of Top 50 films of 2018. J...   \n",
       "\n",
       "                                              dialogue  speaker_num  \\\n",
       "13   Mary: Are you going by car or train?\\nTom: Ell...            3   \n",
       "23   Anne: You were right, he was lying to me :/\\nI...            3   \n",
       "36   Daniel: have you guys played DA?\\nMary: which ...            3   \n",
       "45   Josh: Stephen, I think you've accidentaly take...            3   \n",
       "49   Petra: I need to sleep, I can't stand how slee...            3   \n",
       "..                                                 ...          ...   \n",
       "808  Jack: OMG STANLEY IS DEAD\\r\\nOliver: Wtf?\\r\\nS...            3   \n",
       "809  Maria: I'm tired of this job, I can't stand it...            3   \n",
       "815  Jamilla: remember that the audition starts at ...            3   \n",
       "816  Marta: <file_gif>\\r\\nMarta: Sorry girls, I cli...            3   \n",
       "818  Rachel: <file_other>\\r\\nRachel: Top 50 Best Fi...            3   \n",
       "\n",
       "     dialogue_len  \n",
       "13            120  \n",
       "23            226  \n",
       "36            445  \n",
       "45            267  \n",
       "49            469  \n",
       "..            ...  \n",
       "808           191  \n",
       "809           138  \n",
       "815           114  \n",
       "816           187  \n",
       "818           481  \n",
       "\n",
       "[134 rows x 5 columns]"
      ]
     },
     "execution_count": 20,
     "metadata": {},
     "output_type": "execute_result"
    }
   ],
   "source": [
    "df_train[df_train[\"speaker_num\"]==3]"
   ]
  },
  {
   "cell_type": "code",
   "execution_count": 21,
   "metadata": {},
   "outputs": [
    {
     "data": {
      "image/png": "[encoded data removed]",
      "text/plain": [
       "<Figure size 432x288 with 1 Axes>"
      ]
     },
     "metadata": {
      "needs_background": "light"
     },
     "output_type": "display_data"
    }
   ],
   "source": [
    "df_train[\"speaker_num\"].hist()\n",
    "plt.show()"
   ]
  },
  {
   "cell_type": "code",
   "execution_count": 22,
   "metadata": {},
   "outputs": [
    {
     "data": {
      "image/png": "[encoded data removed]",
      "text/plain": [
       "<Figure size 432x288 with 1 Axes>"
      ]
     },
     "metadata": {
      "needs_background": "light"
     },
     "output_type": "display_data"
    }
   ],
   "source": [
    "df_train[\"dialogue_len\"].hist()\n",
    "plt.show()"
   ]
  },
  {
   "cell_type": "code",
   "execution_count": 23,
   "metadata": {},
   "outputs": [
    {
     "data": {
      "text/plain": [
       "<matplotlib.axes._subplots.AxesSubplot at 0x7f38cbe54c18>"
      ]
     },
     "execution_count": 23,
     "metadata": {},
     "output_type": "execute_result"
    },
    {
     "data": {
      "image/png": "[encoded data removed]",
      "text/plain": [
       "<Figure size 432x288 with 1 Axes>"
      ]
     },
     "metadata": {
      "needs_background": "light"
     },
     "output_type": "display_data"
    }
   ],
   "source": [
    "df_train[df_train[\"speaker_num\"]==2][\"dialogue_len\"].hist()"
   ]
  },
  {
   "cell_type": "code",
   "execution_count": 24,
   "metadata": {},
   "outputs": [
    {
     "data": {
      "text/html": [
       "<div>\n",
       "<style scoped>\n",
       "    .dataframe tbody tr th:only-of-type {\n",
       "        vertical-align: middle;\n",
       "    }\n",
       "\n",
       "    .dataframe tbody tr th {\n",
       "        vertical-align: top;\n",
       "    }\n",
       "\n",
       "    .dataframe thead th {\n",
       "        text-align: right;\n",
       "    }\n",
       "</style>\n",
       "<table border=\"1\" class=\"dataframe\">\n",
       "  <thead>\n",
       "    <tr style=\"text-align: right;\">\n",
       "      <th></th>\n",
       "      <th>id</th>\n",
       "      <th>summary</th>\n",
       "      <th>dialogue</th>\n",
       "      <th>speaker_num</th>\n",
       "      <th>dialogue_len</th>\n",
       "    </tr>\n",
       "  </thead>\n",
       "  <tbody>\n",
       "    <tr>\n",
       "      <th>0</th>\n",
       "      <td>13862856</td>\n",
       "      <td>Hannah needs Betty's number but Amanda doesn't...</td>\n",
       "      <td>Hannah: Hey, do you have Betty's number?\\nAman...</td>\n",
       "      <td>2</td>\n",
       "      <td>407</td>\n",
       "    </tr>\n",
       "    <tr>\n",
       "      <th>1</th>\n",
       "      <td>13729565</td>\n",
       "      <td>Eric and Rob are going to watch a stand-up on ...</td>\n",
       "      <td>Eric: MACHINE!\\r\\nRob: That's so gr8!\\r\\nEric:...</td>\n",
       "      <td>2</td>\n",
       "      <td>459</td>\n",
       "    </tr>\n",
       "    <tr>\n",
       "      <th>3</th>\n",
       "      <td>13729438</td>\n",
       "      <td>Emma will be home soon and she will let Will k...</td>\n",
       "      <td>Will: hey babe, what do you want for dinner to...</td>\n",
       "      <td>2</td>\n",
       "      <td>461</td>\n",
       "    </tr>\n",
       "    <tr>\n",
       "      <th>7</th>\n",
       "      <td>13814882</td>\n",
       "      <td>Rita and Tina are bored at work and have still...</td>\n",
       "      <td>Rita: I'm so bloody tired. Falling asleep at w...</td>\n",
       "      <td>2</td>\n",
       "      <td>439</td>\n",
       "    </tr>\n",
       "    <tr>\n",
       "      <th>8</th>\n",
       "      <td>13680876</td>\n",
       "      <td>Beatrice wants to buy Leo a scarf, but he does...</td>\n",
       "      <td>Beatrice: I am in town, shopping. They have ni...</td>\n",
       "      <td>2</td>\n",
       "      <td>479</td>\n",
       "    </tr>\n",
       "    <tr>\n",
       "      <th>...</th>\n",
       "      <td>...</td>\n",
       "      <td>...</td>\n",
       "      <td>...</td>\n",
       "      <td>...</td>\n",
       "      <td>...</td>\n",
       "    </tr>\n",
       "    <tr>\n",
       "      <th>801</th>\n",
       "      <td>13680539</td>\n",
       "      <td>Tim is running late and will arrive around twe...</td>\n",
       "      <td>Tim: I'm running late\\r\\nGary: when will you b...</td>\n",
       "      <td>2</td>\n",
       "      <td>171</td>\n",
       "    </tr>\n",
       "    <tr>\n",
       "      <th>804</th>\n",
       "      <td>13809941</td>\n",
       "      <td>Louisa will lend Thelma her red velvet dress.</td>\n",
       "      <td>Thelma: i dont have anything to wear\\r\\nLouisa...</td>\n",
       "      <td>2</td>\n",
       "      <td>235</td>\n",
       "    </tr>\n",
       "    <tr>\n",
       "      <th>805</th>\n",
       "      <td>13728877</td>\n",
       "      <td>Megan and Joseph will take Joseph's car to the...</td>\n",
       "      <td>Megan: Are we going to take a taxi to the oper...</td>\n",
       "      <td>2</td>\n",
       "      <td>123</td>\n",
       "    </tr>\n",
       "    <tr>\n",
       "      <th>806</th>\n",
       "      <td>13729234</td>\n",
       "      <td>Carl is waiting for Meg who's running late as ...</td>\n",
       "      <td>Carl: Where are u?\\r\\nCarl: I'm still waiting ...</td>\n",
       "      <td>2</td>\n",
       "      <td>111</td>\n",
       "    </tr>\n",
       "    <tr>\n",
       "      <th>811</th>\n",
       "      <td>13829438</td>\n",
       "      <td>Rachel's aunt had an accident and she's in hos...</td>\n",
       "      <td>Rachel: I'm at the hospital, my aunt was in an...</td>\n",
       "      <td>2</td>\n",
       "      <td>479</td>\n",
       "    </tr>\n",
       "  </tbody>\n",
       "</table>\n",
       "<p>381 rows × 5 columns</p>\n",
       "</div>"
      ],
      "text/plain": [
       "           id                                            summary  \\\n",
       "0    13862856  Hannah needs Betty's number but Amanda doesn't...   \n",
       "1    13729565  Eric and Rob are going to watch a stand-up on ...   \n",
       "3    13729438  Emma will be home soon and she will let Will k...   \n",
       "7    13814882  Rita and Tina are bored at work and have still...   \n",
       "8    13680876  Beatrice wants to buy Leo a scarf, but he does...   \n",
       "..        ...                                                ...   \n",
       "801  13680539  Tim is running late and will arrive around twe...   \n",
       "804  13809941      Louisa will lend Thelma her red velvet dress.   \n",
       "805  13728877  Megan and Joseph will take Joseph's car to the...   \n",
       "806  13729234  Carl is waiting for Meg who's running late as ...   \n",
       "811  13829438  Rachel's aunt had an accident and she's in hos...   \n",
       "\n",
       "                                              dialogue  speaker_num  \\\n",
       "0    Hannah: Hey, do you have Betty's number?\\nAman...            2   \n",
       "1    Eric: MACHINE!\\r\\nRob: That's so gr8!\\r\\nEric:...            2   \n",
       "3    Will: hey babe, what do you want for dinner to...            2   \n",
       "7    Rita: I'm so bloody tired. Falling asleep at w...            2   \n",
       "8    Beatrice: I am in town, shopping. They have ni...            2   \n",
       "..                                                 ...          ...   \n",
       "801  Tim: I'm running late\\r\\nGary: when will you b...            2   \n",
       "804  Thelma: i dont have anything to wear\\r\\nLouisa...            2   \n",
       "805  Megan: Are we going to take a taxi to the oper...            2   \n",
       "806  Carl: Where are u?\\r\\nCarl: I'm still waiting ...            2   \n",
       "811  Rachel: I'm at the hospital, my aunt was in an...            2   \n",
       "\n",
       "     dialogue_len  \n",
       "0             407  \n",
       "1             459  \n",
       "3             461  \n",
       "7             439  \n",
       "8             479  \n",
       "..            ...  \n",
       "801           171  \n",
       "804           235  \n",
       "805           123  \n",
       "806           111  \n",
       "811           479  \n",
       "\n",
       "[381 rows x 5 columns]"
      ]
     },
     "execution_count": 24,
     "metadata": {},
     "output_type": "execute_result"
    }
   ],
   "source": [
    "df_train[(df_train[\"speaker_num\"]==2)&(df_train[\"dialogue_len\"]<=512)]"
   ]
  },
  {
   "cell_type": "code",
   "execution_count": 25,
   "metadata": {},
   "outputs": [
    {
     "name": "stdout",
     "output_type": "stream",
     "text": [
      "2     622\n",
      "3     134\n",
      "4      47\n",
      "5       6\n",
      "7       4\n",
      "6       4\n",
      "11      1\n",
      "9       1\n",
      "Name: speaker_num, dtype: int64\n"
     ]
    },
    {
     "data": {
      "text/plain": [
       "<BarContainer object of 8 artists>"
      ]
     },
     "execution_count": 25,
     "metadata": {},
     "output_type": "execute_result"
    },
    {
     "data": {
      "image/png": "[encoded data removed]",
      "text/plain": [
       "<Figure size 720x288 with 1 Axes>"
      ]
     },
     "metadata": {
      "needs_background": "light"
     },
     "output_type": "display_data"
    }
   ],
   "source": [
    "freq = df_train['speaker_num'].value_counts()\n",
    "print(freq)\n",
    "fig = plt.figure(figsize=(10, 4))\n",
    "ax = fig.add_subplot(1,1,1)\n",
    "ax.bar(freq.keys(), freq, width=1.0, alpha=1, edgecolor='black', linewidth=1.0)"
   ]
  },
  {
   "cell_type": "code",
   "execution_count": 26,
   "metadata": {},
   "outputs": [
    {
     "data": {
      "text/plain": [
       "<BarContainer object of 27 artists>"
      ]
     },
     "execution_count": 26,
     "metadata": {},
     "output_type": "execute_result"
    },
    {
     "data": {
      "image/png": "[encoded data removed]",
      "text/plain": [
       "<Figure size 720x288 with 1 Axes>"
      ]
     },
     "metadata": {
      "needs_background": "light"
     },
     "output_type": "display_data"
    }
   ],
   "source": [
    "freq = df_train.groupby(pd.cut(df_train[\"dialogue_len\"], np.arange(df_train[\"dialogue_len\"].min(), df_train[\"dialogue_len\"].max(), 100)))[\"dialogue_len\"].size()\n",
    "fig = plt.figure(figsize=(10, 4))\n",
    "ax = fig.add_subplot(1,1,1)\n",
    "ax.bar([x*100 for x in range(0, len(freq.index))], freq.values, width=1.0*100, alpha=0.8, edgecolor='black', linewidth=1.0)\n"
   ]
  },
  {
   "cell_type": "code",
   "execution_count": 27,
   "metadata": {},
   "outputs": [
    {
     "data": {
      "text/plain": [
       "27"
      ]
     },
     "execution_count": 27,
     "metadata": {},
     "output_type": "execute_result"
    }
   ],
   "source": [
    "len(freq.index)"
   ]
  },
  {
   "cell_type": "code",
   "execution_count": 28,
   "metadata": {},
   "outputs": [
    {
     "data": {
      "text/plain": [
       "Series([], Name: summary, dtype: object)"
      ]
     },
     "execution_count": 28,
     "metadata": {},
     "output_type": "execute_result"
    }
   ],
   "source": [
    "df_train[df_train[\"speaker_num\"]==1]['summary']"
   ]
  },
  {
   "cell_type": "code",
   "execution_count": 29,
   "metadata": {},
   "outputs": [],
   "source": [
    "df_train.to_csv(os.path.join(corpus_dir,\"train.tsv\"), sep='\\t')"
   ]
  },
  {
   "cell_type": "code",
   "execution_count": null,
   "metadata": {},
   "outputs": [],
   "source": []
  },
  {
   "cell_type": "code",
   "execution_count": null,
   "metadata": {},
   "outputs": [],
   "source": []
  }
 ],
 "metadata": {
  "kernelspec": {
   "display_name": "Python 3",
   "language": "python",
   "name": "python3"
  },
  "language_info": {
   "codemirror_mode": {
    "name": "ipython",
    "version": 3
   },
   "file_extension": ".py",
   "mimetype": "text/x-python",
   "name": "python",
   "nbconvert_exporter": "python",
   "pygments_lexer": "ipython3",
   "version": "3.6.12"
  }
 },
 "nbformat": 4,
 "nbformat_minor": 4
}
