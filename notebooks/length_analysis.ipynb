{
 "cells": [
  {
   "cell_type": "code",
   "execution_count": 1,
   "metadata": {},
   "outputs": [],
   "source": [
    "import os\n",
    "os.environ[\"CUDA_VISIBLE_DEVICES\"] = \"0,1\"\n",
    "import sys\n",
    "sys.path.append('../../transformers/src')\n",
    "\n",
    "import math\n",
    "import pandas as pd\n",
    "import numpy as np\n",
    "\n",
    "import torch\n",
    "import torch.nn as nn\n",
    "\n",
    "from transformers import AdamW, pipeline, PegasusForConditionalGeneration, PegasusTokenizer\n",
    "from transformers import BartConfig\n",
    "from transformers import AutoConfig\n",
    "from transformers.models.bart.modeling_bart import EncoderLayer, SinusoidalPositionalEmbedding, LayerNorm"
   ]
  },
  {
   "cell_type": "code",
   "execution_count": 2,
   "metadata": {},
   "outputs": [
    {
     "name": "stdout",
     "output_type": "stream",
     "text": [
      "torch_device: cuda\n"
     ]
    }
   ],
   "source": [
    "torch_device = 'cuda' if torch.cuda.is_available() else 'cpu'\n",
    "print(\"torch_device:\",torch_device)"
   ]
  },
  {
   "cell_type": "code",
   "execution_count": 10,
   "metadata": {},
   "outputs": [
    {
     "data": {
      "text/plain": [
       "1024"
      ]
     },
     "execution_count": 10,
     "metadata": {},
     "output_type": "execute_result"
    }
   ],
   "source": [
    "# model_name = 'google/pegasus-xsum'\n",
    "model_name = 'google/pegasus-cnn_dailymail'\n",
    "tokenizer = PegasusTokenizer.from_pretrained(model_name)\n",
    "tokenizer.model_max_length"
   ]
  },
  {
   "cell_type": "code",
   "execution_count": 11,
   "metadata": {},
   "outputs": [
    {
     "name": "stdout",
     "output_type": "stream",
     "text": [
      "▁Yu  ji  ▁Nar  aki  [SAYS]  ▁Hi  ,  ▁John  !  [EOU]  ▁How  ▁are  ▁you  ?  [EOU]  [EOT]  ▁John  [SAYS]  ▁I  '  m  ▁good  .  ▁Thanks  .  [EOU]  [EOT]  ▁Yu  ji  ▁Nar  aki  [SAYS]  ▁Hi  ,  ▁John  !  [EOU]  ▁How  ▁are  ▁you  ?  [EOU]  [EOT]  </s>\n"
     ]
    }
   ],
   "source": [
    "sample_text = [\n",
    "    \"Yuji Naraki [SAYS] Hi, John! [EOU] How are you? [EOU] [EOT] John [SAYS] I'm good. Thanks. [EOU] [EOT] Yuji Naraki [SAYS] Hi, John! [EOU] How are you? [EOU] [EOT]\",\n",
    "    \"Naraki [SAYS] Good evening, Mr.Kim. [EOU] How was your today? [EOU] [EOT] Kim [SAYS] It is a pleasant day. [EOU] [EOT] Daive [SAYS] It is a pleasant day. [EOU] [EOT]\"\n",
    "]\n",
    "special_tokens_dict = {'additional_special_tokens': ['[SAYS]','[EOU]','[EOT]']}\n",
    "num_added_toks = tokenizer.add_special_tokens(special_tokens_dict)\n",
    "\n",
    "batch = tokenizer.prepare_seq2seq_batch(sample_text, truncation=True, padding='longest')\n",
    "print('  '.join([tokenizer.convert_ids_to_tokens(i) for i in batch['input_ids'][0]]))"
   ]
  },
  {
   "cell_type": "code",
   "execution_count": 12,
   "metadata": {},
   "outputs": [
    {
     "name": "stdout",
     "output_type": "stream",
     "text": [
      "min_len 4\n",
      "max_len 80\n"
     ]
    },
    {
     "data": {
      "text/plain": [
       "0.011676057294141605"
      ]
     },
     "execution_count": 12,
     "metadata": {},
     "output_type": "execute_result"
    }
   ],
   "source": [
    "# see min_length, value of attention_mask\n",
    "mode = 'train'\n",
    "source_list = []\n",
    "with open(\"/home/naraki/dialogsum/samsum_dataset2/{}.source\".format(mode), \"r\") as f:\n",
    "    source_list = f.read().split('\\n')\n",
    "target_list = []\n",
    "with open(\"/home/naraki/dialogsum/samsum_dataset2/{}.target\".format(mode), \"r\") as f:\n",
    "    target_list = f.read().split('\\n')\n",
    "\n",
    "assert len(source_list)==len(target_list)\n",
    "    \n",
    "min_len = 1000\n",
    "max_len = 0\n",
    "count = 0\n",
    "source_len_list = []\n",
    "target_len_list = []\n",
    "for i, (source, target) in enumerate(zip(source_list, target_list)):\n",
    "    batch = tokenizer.prepare_seq2seq_batch([source], truncation=True, padding='longest')\n",
    "    text_len = len(batch.input_ids[0])\n",
    "    source_len_list.append(text_len)\n",
    "    batch = tokenizer.prepare_seq2seq_batch([target], truncation=True, padding='longest')\n",
    "    text_len = len(batch.input_ids[0])\n",
    "    target_len_list.append(text_len)\n",
    "    if target != 'yyy' and target != 'test':\n",
    "        if text_len < min_len:\n",
    "            min_len = text_len\n",
    "    if text_len > 64:\n",
    "        count+=1\n",
    "#         print(\"Source\",i, \": \", source)\n",
    "#         print(\"Target\",i, \": \", target)\n",
    "    if text_len > max_len:\n",
    "        max_len = text_len\n",
    "    if 0 in batch.attention_mask[0]:\n",
    "        # 呼ばれたらあかん\n",
    "        print(batch)\n",
    "print(\"min_len\", min_len)\n",
    "print(\"max_len\", max_len)\n",
    "count/len(source_list)"
   ]
  },
  {
   "cell_type": "code",
   "execution_count": 13,
   "metadata": {},
   "outputs": [
    {
     "data": {
      "text/plain": [
       "1024"
      ]
     },
     "execution_count": 13,
     "metadata": {},
     "output_type": "execute_result"
    }
   ],
   "source": [
    "tokenizer.model_max_length"
   ]
  },
  {
   "cell_type": "code",
   "execution_count": 14,
   "metadata": {},
   "outputs": [
    {
     "data": {
      "image/png": "[encoded data removed]",
      "text/plain": [
       "<Figure size 432x288 with 1 Axes>"
      ]
     },
     "metadata": {
      "needs_background": "light"
     },
     "output_type": "display_data"
    }
   ],
   "source": [
    "from matplotlib import pyplot as plt\n",
    "%matplotlib inline\n",
    "\n",
    "bins = np.arange(0, 1024, 10) # fixed bin size\n",
    "\n",
    "plt.xlim([0, 1024])\n",
    "\n",
    "plt.hist(source_len_list, bins=bins, alpha=0.5)\n",
    "plt.title('source length')\n",
    "plt.xlabel('variable X (bin size = 5)')\n",
    "plt.ylabel('count')\n",
    "\n",
    "plt.show()"
   ]
  },
  {
   "cell_type": "code",
   "execution_count": 15,
   "metadata": {},
   "outputs": [
    {
     "data": {
      "image/png": "[encoded data removed]",
      "text/plain": [
       "<Figure size 432x288 with 1 Axes>"
      ]
     },
     "metadata": {
      "needs_background": "light"
     },
     "output_type": "display_data"
    }
   ],
   "source": [
    "bins = np.arange(0, 100, 5) # fixed bin size\n",
    "\n",
    "plt.xlim([0, 100])\n",
    "\n",
    "plt.hist(target_len_list, bins=bins, alpha=0.5)\n",
    "plt.title('target length')\n",
    "plt.xlabel('variable X (bin size = 5)')\n",
    "plt.ylabel('count')\n",
    "\n",
    "plt.show()"
   ]
  },
  {
   "cell_type": "code",
   "execution_count": null,
   "metadata": {},
   "outputs": [],
   "source": []
  },
  {
   "cell_type": "code",
   "execution_count": null,
   "metadata": {},
   "outputs": [],
   "source": []
  }
 ],
 "metadata": {
  "kernelspec": {
   "display_name": "Python 3",
   "language": "python",
   "name": "python3"
  },
  "language_info": {
   "codemirror_mode": {
    "name": "ipython",
    "version": 3
   },
   "file_extension": ".py",
   "mimetype": "text/x-python",
   "name": "python",
   "nbconvert_exporter": "python",
   "pygments_lexer": "ipython3",
   "version": "3.6.12"
  }
 },
 "nbformat": 4,
 "nbformat_minor": 4
}
